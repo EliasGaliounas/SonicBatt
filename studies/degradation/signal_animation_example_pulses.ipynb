{
 "cells": [
  {
   "cell_type": "code",
   "execution_count": 1,
   "metadata": {},
   "outputs": [],
   "source": [
    "from SonicBatt import utils\n",
    "import os\n",
    "import pandas as pd\n",
    "import pyarrow.parquet as pq\n",
    "\n",
    "\n",
    "root_dir = utils.root_dir()\n",
    "study_path = os.path.join(root_dir, 'studies', 'degradation')\n",
    "data_path = os.path.join(study_path, 'Raw Data')\n",
    "visualistion_path = os.path.join(study_path, 'Visualisation')\n",
    "\n",
    "database = pd.read_excel(os.path.join(data_path, 'database.xlsx'))\n",
    "rate_tests = database.loc[database['test_type']=='multi_c_rate'].reset_index(drop=True)\n",
    "\n",
    "# From the multi-c-rate study files select the file corresponding to the rate of 1C\n",
    "selected_c_rate = 1\n",
    "filter = rate_tests['c_rate'] == selected_c_rate\n",
    "selected_test_id = rate_tests.loc[filter, 'test_id'].iloc[0]\n"
   ]
  },
  {
   "cell_type": "code",
   "execution_count": 2,
   "metadata": {},
   "outputs": [
    {
     "name": "stdout",
     "output_type": "stream",
     "text": [
      "Smoothing signals. Passes = 50. Window_len = 15\n",
      "-----------------\n",
      "0.00 %\n",
      "10.00 %\n",
      "20.00 %\n",
      "30.00 %\n",
      "40.00 %\n",
      "50.00 %\n",
      "60.00 %\n",
      "70.00 %\n",
      "80.00 %\n",
      "90.00 %\n"
     ]
    }
   ],
   "source": [
    "# Load complete acoustic waveforms:\n",
    "parquet_filename = '{}_acoustics_and_cycling.parquet'.format(selected_test_id)\n",
    "parquet_filepath = os.path.join(data_path, selected_test_id, parquet_filename)\n",
    "df_signals = pq.read_table(parquet_filepath).to_pandas()\n",
    "acoustic_signals = df_signals['acoustics']\n",
    "\n",
    "# Find acoustic peaks\n",
    "test_dir = os.path.join(data_path, selected_test_id)\n",
    "df = utils.df_with_peaks(data_path, selected_test_id, passes=50)\n",
    "df_cycling = df['cycling']\n",
    "peak_heights = df['peak_heights']\n",
    "peak_tofs = df['peak_tofs']\n"
   ]
  },
  {
   "cell_type": "code",
   "execution_count": null,
   "metadata": {},
   "outputs": [],
   "source": [
    "# Animate and save\n",
    "acoustic_signals = df_signals['acoustics'].to_numpy()\n",
    "df_cycling = df['cycling']\n",
    "peak_heights = df['peak_heights'].to_numpy()\n",
    "peak_tofs = df['peak_tofs'].to_numpy()\n",
    "\n",
    "ani_filename = '1C_pulses_example'\n",
    "\n",
    "if not os.path.exists(visualistion_path):\n",
    "    os.makedirs(visualistion_path)\n",
    "\n",
    "utils.animate_signals(\n",
    "    df_cycling=df_cycling, signals=acoustic_signals,\n",
    "    peak_heights=peak_heights, peak_tofs=peak_tofs, fps=240,\n",
    "    save_dir = visualistion_path, save_name=ani_filename)\n"
   ]
  },
  {
   "cell_type": "code",
   "execution_count": null,
   "metadata": {},
   "outputs": [],
   "source": []
  }
 ],
 "metadata": {
  "kernelspec": {
   "display_name": "SonicBatt_env",
   "language": "python",
   "name": "python3"
  },
  "language_info": {
   "codemirror_mode": {
    "name": "ipython",
    "version": 3
   },
   "file_extension": ".py",
   "mimetype": "text/x-python",
   "name": "python",
   "nbconvert_exporter": "python",
   "pygments_lexer": "ipython3",
   "version": "3.8.18"
  }
 },
 "nbformat": 4,
 "nbformat_minor": 2
}
